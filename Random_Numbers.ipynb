{
 "cells": [
  {
   "cell_type": "code",
   "execution_count": 1,
   "id": "ff62b5e3",
   "metadata": {},
   "outputs": [],
   "source": [
    "import random"
   ]
  },
  {
   "cell_type": "code",
   "execution_count": 8,
   "id": "e8fe8d18",
   "metadata": {},
   "outputs": [
    {
     "data": {
      "text/plain": [
       "81"
      ]
     },
     "execution_count": 8,
     "metadata": {},
     "output_type": "execute_result"
    }
   ],
   "source": [
    "random.randint(-90, 90)"
   ]
  },
  {
   "cell_type": "code",
   "execution_count": 9,
   "id": "e52d19ff",
   "metadata": {},
   "outputs": [
    {
     "data": {
      "text/plain": [
       "0.30539202294402346"
      ]
     },
     "execution_count": 9,
     "metadata": {},
     "output_type": "execute_result"
    }
   ],
   "source": [
    "random.random()"
   ]
  },
  {
   "cell_type": "code",
   "execution_count": 13,
   "id": "480ace92",
   "metadata": {},
   "outputs": [
    {
     "data": {
      "text/plain": [
       "69.51545628960547"
      ]
     },
     "execution_count": 13,
     "metadata": {},
     "output_type": "execute_result"
    }
   ],
   "source": [
    "random_number = random.randint(-90,89) + random.random()\n",
    "random_number"
   ]
  },
  {
   "cell_type": "code",
   "execution_count": null,
   "id": "686f6b65",
   "metadata": {},
   "outputs": [],
   "source": [
    "#Assign the variable x to 1.\n",
    "#Initialize an empty list, latitudes.\n",
    "#We create a while loop where we generate a random latitude and add it to the list.\n",
    "#After the random latitude is added to the list we add one to the variable \"x\".\n",
    "#The while loop condition is checked again and will continue to run as long as x is less than 11."
   ]
  },
  {
   "cell_type": "code",
   "execution_count": 14,
   "id": "3d5858d6",
   "metadata": {},
   "outputs": [
    {
     "data": {
      "text/plain": [
       "[77.28417094946468,\n",
       " -55.0501497100217,\n",
       " -17.932336506709184,\n",
       " 50.709956782451364,\n",
       " -73.295930414448,\n",
       " -88.48467849428354,\n",
       " 5.3880977455510095,\n",
       " -51.46256565031211,\n",
       " -30.407185374894734,\n",
       " -1.3588684999991065]"
      ]
     },
     "execution_count": 14,
     "metadata": {},
     "output_type": "execute_result"
    }
   ],
   "source": [
    "x = 1\n",
    "latitudes = []\n",
    "while x < 11:\n",
    "    random_lat = random.randint(-90, 89) + random.random()\n",
    "    latitudes.append(random_lat)\n",
    "    x += 1\n",
    "latitudes"
   ]
  },
  {
   "cell_type": "code",
   "execution_count": 16,
   "id": "092741a0",
   "metadata": {},
   "outputs": [
    {
     "data": {
      "text/plain": [
       "-27"
      ]
     },
     "execution_count": 16,
     "metadata": {},
     "output_type": "execute_result"
    }
   ],
   "source": [
    "#If you don't add the step parameter, the output will be a number with an increment of 1, which is the default integer value.\n",
    "random.randrange(-90, 90, step=3)"
   ]
  },
  {
   "cell_type": "code",
   "execution_count": 17,
   "id": "108f5a86",
   "metadata": {},
   "outputs": [
    {
     "data": {
      "text/plain": [
       "-55.239442623025326"
      ]
     },
     "execution_count": 17,
     "metadata": {},
     "output_type": "execute_result"
    }
   ],
   "source": [
    "random.uniform(-90, 90)"
   ]
  },
  {
   "cell_type": "code",
   "execution_count": 21,
   "id": "7df748b3",
   "metadata": {},
   "outputs": [],
   "source": [
    "#The NumPy module has a built-in random module, and supplements the built-in Python random module.\n",
    "# Import the NumPy module.\n",
    "import numpy as np"
   ]
  },
  {
   "cell_type": "code",
   "execution_count": 22,
   "id": "c43af2b6",
   "metadata": {},
   "outputs": [
    {
     "data": {
      "text/plain": [
       "86.95173813572538"
      ]
     },
     "execution_count": 22,
     "metadata": {},
     "output_type": "execute_result"
    }
   ],
   "source": [
    "np.random.uniform(-90.000, 90.000)"
   ]
  },
  {
   "cell_type": "code",
   "execution_count": 23,
   "id": "0ff50aa3",
   "metadata": {},
   "outputs": [
    {
     "data": {
      "text/plain": [
       "56.65673594869364"
      ]
     },
     "execution_count": 23,
     "metadata": {},
     "output_type": "execute_result"
    }
   ],
   "source": [
    "# or\n",
    "np.random.uniform(low=-90, high=90)"
   ]
  },
  {
   "cell_type": "code",
   "execution_count": 24,
   "id": "3615d674",
   "metadata": {},
   "outputs": [
    {
     "data": {
      "text/plain": [
       "array([-87.31414809,  61.96713058,  19.81879012, -29.87816268,\n",
       "        20.43500604, -27.09379349, -59.51246942, -21.70672715,\n",
       "        17.75922049,  78.65575388,  55.68264626, -57.3197253 ,\n",
       "        65.91542336,  -1.78624919,  -9.215518  ,  13.05102965,\n",
       "        22.08240281, -66.18840956,  64.85175646,  -1.91536712,\n",
       "       -61.81559796, -15.69118174, -56.22411157,  -1.93040496,\n",
       "       -85.33905135,  78.30646905, -30.79134425,  41.91773333,\n",
       "       -84.84197245, -14.71412552,  36.72309793,  29.62157994,\n",
       "        -6.99726733,   9.5840873 , -20.16580126, -58.66163128,\n",
       "         4.61868373,  -5.33712236,  73.86034085,  54.38328309,\n",
       "        -4.22541103, -55.63557118, -12.64679898, -51.8915609 ,\n",
       "       -73.32209441,  25.41890332, -11.51187967,  86.74404136,\n",
       "         2.84831602,   8.38719247])"
      ]
     },
     "execution_count": 24,
     "metadata": {},
     "output_type": "execute_result"
    }
   ],
   "source": [
    "# The output is an array of 50 floating-point decimal numbers between –90.000 and 90.000.\n",
    "np.random.uniform(-90.000, 90.000, size=50)"
   ]
  },
  {
   "cell_type": "code",
   "execution_count": 25,
   "id": "1f329572",
   "metadata": {},
   "outputs": [],
   "source": [
    "# To test how long a piece of code or function takes to run, \n",
    "# we can import the \"timeit\" module and use the %timeit magic command when we run our code or call the function.\n",
    "# Import timeit.\n",
    "import timeit"
   ]
  },
  {
   "cell_type": "code",
   "execution_count": 26,
   "id": "94f7b483",
   "metadata": {},
   "outputs": [
    {
     "name": "stdout",
     "output_type": "stream",
     "text": [
      "22 µs ± 829 ns per loop (mean ± std. dev. of 7 runs, 10000 loops each)\n"
     ]
    }
   ],
   "source": [
    "%timeit np.random.uniform(-90.000, 90.000, size=1500)\n",
    "# The output is the amount of time it took to run this code, which is an average of microseconds\n",
    "# the output is the amount of time it took to run the code for 7 runs and 1,000 loops per run."
   ]
  },
  {
   "cell_type": "code",
   "execution_count": null,
   "id": "ff78a179",
   "metadata": {},
   "outputs": [],
   "source": []
  }
 ],
 "metadata": {
  "kernelspec": {
   "display_name": "Python 3",
   "language": "python",
   "name": "python3"
  },
  "language_info": {
   "codemirror_mode": {
    "name": "ipython",
    "version": 3
   },
   "file_extension": ".py",
   "mimetype": "text/x-python",
   "name": "python",
   "nbconvert_exporter": "python",
   "pygments_lexer": "ipython3",
   "version": "3.7.10"
  }
 },
 "nbformat": 4,
 "nbformat_minor": 5
}
